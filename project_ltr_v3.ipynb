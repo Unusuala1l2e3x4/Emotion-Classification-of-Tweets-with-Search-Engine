{
 "cells": [
  {
   "cell_type": "code",
   "execution_count": 1,
   "metadata": {},
   "outputs": [],
   "source": [
    "import pandas as pd\n",
    "import numpy as np\n",
    "\n",
    "import pyterrier as pt\n",
    "import os, datetime\n",
    "\n",
    "from joblib import dump, load\n",
    "\n",
    "from sklearn.model_selection import train_test_split\n",
    "\n",
    "\n",
    "import warnings\n",
    "warnings.filterwarnings('ignore')\n",
    "\n",
    "SEED=42\n",
    "RANDOM_STATE = 0\n",
    "\n"
   ]
  },
  {
   "cell_type": "code",
   "execution_count": 2,
   "metadata": {},
   "outputs": [
    {
     "name": "stderr",
     "output_type": "stream",
     "text": [
      "PyTerrier 0.9.1 has loaded Terrier 5.7 (built by craigm on 2022-11-10 18:30) and terrier-helper 0.0.7\n",
      "\n"
     ]
    }
   ],
   "source": [
    "# !module load openjdk\n",
    "# !echo $JAVA_HOME\n",
    "# !export JAVA_HOME=/sw/pkgs/arc/openjdk/jdk-18.0.1.1\n",
    "\n",
    "import socket\n",
    "socket.getaddrinfo('localhost', 8080)\n",
    "# os.environ[\"JAVA_HOME\"] ='C:/Program Files/Java/jdk-18.0.1.1'\n",
    "if not pt.started():\n",
    "    pt.init()"
   ]
  },
  {
   "cell_type": "code",
   "execution_count": 3,
   "metadata": {},
   "outputs": [],
   "source": [
    "emotion_map = {'sadness':0, 'joy':1, 'love':2, 'anger':3,'fear':4,'surprise':5, 0: 'sadness', 1: 'joy', 2: 'love', 3: 'anger', 4: 'fear', 5: 'surprise'}\n",
    "emotions = ['sadness', 'joy', 'love', 'anger','fear','surprise']"
   ]
  },
  {
   "cell_type": "code",
   "execution_count": 4,
   "metadata": {},
   "outputs": [
    {
     "data": {
      "text/html": [
       "<div>\n",
       "<style scoped>\n",
       "    .dataframe tbody tr th:only-of-type {\n",
       "        vertical-align: middle;\n",
       "    }\n",
       "\n",
       "    .dataframe tbody tr th {\n",
       "        vertical-align: top;\n",
       "    }\n",
       "\n",
       "    .dataframe thead th {\n",
       "        text-align: right;\n",
       "    }\n",
       "</style>\n",
       "<table border=\"1\" class=\"dataframe\">\n",
       "  <thead>\n",
       "    <tr style=\"text-align: right;\">\n",
       "      <th></th>\n",
       "      <th>text</th>\n",
       "      <th>label</th>\n",
       "      <th>emotion</th>\n",
       "      <th>docno</th>\n",
       "    </tr>\n",
       "  </thead>\n",
       "  <tbody>\n",
       "    <tr>\n",
       "      <th>0</th>\n",
       "      <td>i feel awful about it too because it s my job ...</td>\n",
       "      <td>0</td>\n",
       "      <td>sadness</td>\n",
       "      <td>0</td>\n",
       "    </tr>\n",
       "    <tr>\n",
       "      <th>1</th>\n",
       "      <td>im alone i feel awful</td>\n",
       "      <td>0</td>\n",
       "      <td>sadness</td>\n",
       "      <td>1</td>\n",
       "    </tr>\n",
       "    <tr>\n",
       "      <th>2</th>\n",
       "      <td>ive probably mentioned this before but i reall...</td>\n",
       "      <td>1</td>\n",
       "      <td>joy</td>\n",
       "      <td>2</td>\n",
       "    </tr>\n",
       "    <tr>\n",
       "      <th>3</th>\n",
       "      <td>i was feeling a little low few days back</td>\n",
       "      <td>0</td>\n",
       "      <td>sadness</td>\n",
       "      <td>3</td>\n",
       "    </tr>\n",
       "    <tr>\n",
       "      <th>4</th>\n",
       "      <td>i beleive that i am much more sensitive to oth...</td>\n",
       "      <td>2</td>\n",
       "      <td>love</td>\n",
       "      <td>4</td>\n",
       "    </tr>\n",
       "    <tr>\n",
       "      <th>...</th>\n",
       "      <td>...</td>\n",
       "      <td>...</td>\n",
       "      <td>...</td>\n",
       "      <td>...</td>\n",
       "    </tr>\n",
       "    <tr>\n",
       "      <th>416804</th>\n",
       "      <td>that was what i felt when i was finally accept...</td>\n",
       "      <td>1</td>\n",
       "      <td>joy</td>\n",
       "      <td>416804</td>\n",
       "    </tr>\n",
       "    <tr>\n",
       "      <th>416805</th>\n",
       "      <td>i take every day as it comes i m just focussin...</td>\n",
       "      <td>4</td>\n",
       "      <td>fear</td>\n",
       "      <td>416805</td>\n",
       "    </tr>\n",
       "    <tr>\n",
       "      <th>416806</th>\n",
       "      <td>i just suddenly feel that everything was fake</td>\n",
       "      <td>0</td>\n",
       "      <td>sadness</td>\n",
       "      <td>416806</td>\n",
       "    </tr>\n",
       "    <tr>\n",
       "      <th>416807</th>\n",
       "      <td>im feeling more eager than ever to claw back w...</td>\n",
       "      <td>1</td>\n",
       "      <td>joy</td>\n",
       "      <td>416807</td>\n",
       "    </tr>\n",
       "    <tr>\n",
       "      <th>416808</th>\n",
       "      <td>i give you plenty of attention even when i fee...</td>\n",
       "      <td>0</td>\n",
       "      <td>sadness</td>\n",
       "      <td>416808</td>\n",
       "    </tr>\n",
       "  </tbody>\n",
       "</table>\n",
       "<p>416809 rows × 4 columns</p>\n",
       "</div>"
      ],
      "text/plain": [
       "                                                     text  label  emotion  \\\n",
       "0       i feel awful about it too because it s my job ...      0  sadness   \n",
       "1                                   im alone i feel awful      0  sadness   \n",
       "2       ive probably mentioned this before but i reall...      1      joy   \n",
       "3                i was feeling a little low few days back      0  sadness   \n",
       "4       i beleive that i am much more sensitive to oth...      2     love   \n",
       "...                                                   ...    ...      ...   \n",
       "416804  that was what i felt when i was finally accept...      1      joy   \n",
       "416805  i take every day as it comes i m just focussin...      4     fear   \n",
       "416806      i just suddenly feel that everything was fake      0  sadness   \n",
       "416807  im feeling more eager than ever to claw back w...      1      joy   \n",
       "416808  i give you plenty of attention even when i fee...      0  sadness   \n",
       "\n",
       "         docno  \n",
       "0            0  \n",
       "1            1  \n",
       "2            2  \n",
       "3            3  \n",
       "4            4  \n",
       "...        ...  \n",
       "416804  416804  \n",
       "416805  416805  \n",
       "416806  416806  \n",
       "416807  416807  \n",
       "416808  416808  \n",
       "\n",
       "[416809 rows x 4 columns]"
      ]
     },
     "execution_count": 4,
     "metadata": {},
     "output_type": "execute_result"
    }
   ],
   "source": [
    "docs_df = pd.DataFrame(load('emotion/datasets/Emotion Dataset for Emotion Recognition Tasks/merged_training.pkl')).reset_index(drop=True)\n",
    "docs_df.columns = ['text','label']\n",
    "docs_df['emotion'] = docs_df['label']\n",
    "docs_df['label'] = docs_df['label'].replace(emotion_map)\n",
    "docs_df['docno'] = [str(a) for a in range(docs_df.shape[0])]\n",
    "docs_df\n",
    "\n"
   ]
  },
  {
   "cell_type": "code",
   "execution_count": 5,
   "metadata": {},
   "outputs": [],
   "source": [
    "from textblob import TextBlob\n",
    "import nltk\n",
    "from nltk.corpus import wordnet\n",
    "from nltk.stem.porter import PorterStemmer\n",
    "from nltk.tokenize import word_tokenize\n",
    "\n",
    "stemmer = PorterStemmer()\n",
    "\n",
    "def sentiment_textblob(row):\n",
    "    classifier = TextBlob(row)\n",
    "    polarity = classifier.sentiment.polarity\n",
    "    subjectivity = classifier.sentiment.subjectivity\n",
    "    return polarity,subjectivity"
   ]
  },
  {
   "cell_type": "code",
   "execution_count": 6,
   "metadata": {},
   "outputs": [],
   "source": [
    "if not os.path.exists('emotion/datasets/Emotion Dataset for Emotion Recognition Tasks/tok.pkl'):\n",
    "    docs_df['tok'] = [word_tokenize(a) for a in docs_df.text]\n",
    "    docs_df['tok'].to_pickle('emotion/datasets/Emotion Dataset for Emotion Recognition Tasks/tok.pkl')\n",
    "else:\n",
    "    docs_df['tok'] = pd.read_pickle('emotion/datasets/Emotion Dataset for Emotion Recognition Tasks/tok.pkl')\n",
    "# docs_df"
   ]
  },
  {
   "cell_type": "code",
   "execution_count": 7,
   "metadata": {},
   "outputs": [],
   "source": [
    "# only used for counting emotions\n",
    "if not os.path.exists('emotion/datasets/Emotion Dataset for Emotion Recognition Tasks/stem.pkl'):\n",
    "    docs_df['stem'] = [[stemmer.stem(b) for b in a] for a in docs_df.tok]\n",
    "    docs_df['stem'].to_pickle('emotion/datasets/Emotion Dataset for Emotion Recognition Tasks/stem.pkl')\n",
    "else:\n",
    "    docs_df['stem'] = pd.read_pickle('emotion/datasets/Emotion Dataset for Emotion Recognition Tasks/stem.pkl')\n",
    "# docs_df\n",
    "\n",
    "# may require downloading nltk packages\n",
    "emotion_synonyms, emotion_antonyms = dict(), dict()\n",
    "# for i in pd.unique(docs_df['query']):\n",
    "for i in pd.unique(docs_df['emotion']):\n",
    "    emotion_synonyms[i], emotion_antonyms[i] = set(), set()\n",
    "    for syn in wordnet.synsets(i):\n",
    "        for l in syn.lemmas():\n",
    "            if '_' not in l.name():\n",
    "                emotion_synonyms[i].add(l.name())\n",
    "            if l.antonyms() and '_' not in l.antonyms()[0].name():\n",
    "                emotion_antonyms[i].add(l.antonyms()[0].name())\n",
    "emotion_terms_all = {stemmer.stem(i) for a in emotion_synonyms for i in emotion_synonyms[a] }.union({stemmer.stem(i) for a in emotion_antonyms for i in emotion_antonyms[a] })\n",
    "# emotion_terms_all"
   ]
  },
  {
   "cell_type": "code",
   "execution_count": 8,
   "metadata": {},
   "outputs": [],
   "source": [
    "if not os.path.exists('emotion/datasets/Emotion Dataset for Emotion Recognition Tasks/pos_tup.pkl'):\n",
    "    docs_df['pos_tup'] = [nltk.tag.pos_tag(a) for a in docs_df.tok]\n",
    "    docs_df['pos_tup'].to_pickle('emotion/datasets/Emotion Dataset for Emotion Recognition Tasks/pos_tup.pkl')\n",
    "else:\n",
    "    docs_df['pos_tup'] = pd.read_pickle('emotion/datasets/Emotion Dataset for Emotion Recognition Tasks/pos_tup.pkl')\n",
    "    \n",
    "docs_df['pos'] = [[b[1] for b in a] for a in docs_df.pos_tup]\n",
    "# docs_df"
   ]
  },
  {
   "cell_type": "code",
   "execution_count": 9,
   "metadata": {},
   "outputs": [],
   "source": [
    "\n",
    "if not os.path.exists('emotion/datasets/Emotion Dataset for Emotion Recognition Tasks/polarity_subjectivity.pkl'):\n",
    "    docs_df[['polarity', 'subjectivity']] = pd.DataFrame([sentiment_textblob(a) for a in docs_df.text], columns=['polarity', 'subjectivity'])\n",
    "    docs_df[['polarity', 'subjectivity']].to_pickle('emotion/datasets/Emotion Dataset for Emotion Recognition Tasks/polarity_subjectivity.pkl')\n",
    "else:\n",
    "    docs_df[['polarity', 'subjectivity']] = pd.read_pickle('emotion/datasets/Emotion Dataset for Emotion Recognition Tasks/polarity_subjectivity.pkl')\n",
    "# docs_df.dtypes"
   ]
  },
  {
   "cell_type": "code",
   "execution_count": 10,
   "metadata": {},
   "outputs": [
    {
     "data": {
      "text/html": [
       "<div>\n",
       "<style scoped>\n",
       "    .dataframe tbody tr th:only-of-type {\n",
       "        vertical-align: middle;\n",
       "    }\n",
       "\n",
       "    .dataframe tbody tr th {\n",
       "        vertical-align: top;\n",
       "    }\n",
       "\n",
       "    .dataframe thead th {\n",
       "        text-align: right;\n",
       "    }\n",
       "</style>\n",
       "<table border=\"1\" class=\"dataframe\">\n",
       "  <thead>\n",
       "    <tr style=\"text-align: right;\">\n",
       "      <th></th>\n",
       "      <th>text</th>\n",
       "      <th>label</th>\n",
       "      <th>emotion</th>\n",
       "      <th>docno</th>\n",
       "      <th>tok</th>\n",
       "      <th>stem</th>\n",
       "      <th>pos_tup</th>\n",
       "      <th>pos</th>\n",
       "      <th>polarity</th>\n",
       "      <th>subjectivity</th>\n",
       "    </tr>\n",
       "  </thead>\n",
       "  <tbody>\n",
       "    <tr>\n",
       "      <th>0</th>\n",
       "      <td>i feel awful about it too because it s my job ...</td>\n",
       "      <td>0</td>\n",
       "      <td>sadness</td>\n",
       "      <td>0</td>\n",
       "      <td>[i, feel, awful, about, it, too, because, it, ...</td>\n",
       "      <td>[i, feel, aw, about, it, too, becaus, it, s, m...</td>\n",
       "      <td>[(i, NN), (feel, VBP), (awful, JJ), (about, IN...</td>\n",
       "      <td>[NN, VBP, JJ, IN, PRP, RB, IN, PRP, VBD, PRP$,...</td>\n",
       "      <td>-1.000000</td>\n",
       "      <td>1.000000</td>\n",
       "    </tr>\n",
       "    <tr>\n",
       "      <th>1</th>\n",
       "      <td>im alone i feel awful</td>\n",
       "      <td>0</td>\n",
       "      <td>sadness</td>\n",
       "      <td>1</td>\n",
       "      <td>[im, alone, i, feel, awful]</td>\n",
       "      <td>[im, alon, i, feel, aw]</td>\n",
       "      <td>[(im, NN), (alone, RB), (i, JJ), (feel, VBP), ...</td>\n",
       "      <td>[NN, RB, JJ, VBP, JJ]</td>\n",
       "      <td>-1.000000</td>\n",
       "      <td>1.000000</td>\n",
       "    </tr>\n",
       "    <tr>\n",
       "      <th>2</th>\n",
       "      <td>ive probably mentioned this before but i reall...</td>\n",
       "      <td>1</td>\n",
       "      <td>joy</td>\n",
       "      <td>2</td>\n",
       "      <td>[ive, probably, mentioned, this, before, but, ...</td>\n",
       "      <td>[ive, probabl, mention, thi, befor, but, i, re...</td>\n",
       "      <td>[(ive, NN), (probably, RB), (mentioned, VBD), ...</td>\n",
       "      <td>[NN, RB, VBD, DT, IN, CC, VBP, RB, VBP, VB, NN...</td>\n",
       "      <td>0.284091</td>\n",
       "      <td>0.438636</td>\n",
       "    </tr>\n",
       "    <tr>\n",
       "      <th>3</th>\n",
       "      <td>i was feeling a little low few days back</td>\n",
       "      <td>0</td>\n",
       "      <td>sadness</td>\n",
       "      <td>3</td>\n",
       "      <td>[i, was, feeling, a, little, low, few, days, b...</td>\n",
       "      <td>[i, wa, feel, a, littl, low, few, day, back]</td>\n",
       "      <td>[(i, NN), (was, VBD), (feeling, VBG), (a, DT),...</td>\n",
       "      <td>[NN, VBD, VBG, DT, JJ, JJ, JJ, NNS, RB]</td>\n",
       "      <td>-0.096875</td>\n",
       "      <td>0.225000</td>\n",
       "    </tr>\n",
       "    <tr>\n",
       "      <th>4</th>\n",
       "      <td>i beleive that i am much more sensitive to oth...</td>\n",
       "      <td>2</td>\n",
       "      <td>love</td>\n",
       "      <td>4</td>\n",
       "      <td>[i, beleive, that, i, am, much, more, sensitiv...</td>\n",
       "      <td>[i, beleiv, that, i, am, much, more, sensit, t...</td>\n",
       "      <td>[(i, JJ), (beleive, VBP), (that, IN), (i, NN),...</td>\n",
       "      <td>[JJ, VBP, IN, NN, VBP, RB, RBR, JJ, TO, JJ, NN...</td>\n",
       "      <td>0.243750</td>\n",
       "      <td>0.568750</td>\n",
       "    </tr>\n",
       "  </tbody>\n",
       "</table>\n",
       "</div>"
      ],
      "text/plain": [
       "                                                text  label  emotion docno  \\\n",
       "0  i feel awful about it too because it s my job ...      0  sadness     0   \n",
       "1                              im alone i feel awful      0  sadness     1   \n",
       "2  ive probably mentioned this before but i reall...      1      joy     2   \n",
       "3           i was feeling a little low few days back      0  sadness     3   \n",
       "4  i beleive that i am much more sensitive to oth...      2     love     4   \n",
       "\n",
       "                                                 tok  \\\n",
       "0  [i, feel, awful, about, it, too, because, it, ...   \n",
       "1                        [im, alone, i, feel, awful]   \n",
       "2  [ive, probably, mentioned, this, before, but, ...   \n",
       "3  [i, was, feeling, a, little, low, few, days, b...   \n",
       "4  [i, beleive, that, i, am, much, more, sensitiv...   \n",
       "\n",
       "                                                stem  \\\n",
       "0  [i, feel, aw, about, it, too, becaus, it, s, m...   \n",
       "1                            [im, alon, i, feel, aw]   \n",
       "2  [ive, probabl, mention, thi, befor, but, i, re...   \n",
       "3       [i, wa, feel, a, littl, low, few, day, back]   \n",
       "4  [i, beleiv, that, i, am, much, more, sensit, t...   \n",
       "\n",
       "                                             pos_tup  \\\n",
       "0  [(i, NN), (feel, VBP), (awful, JJ), (about, IN...   \n",
       "1  [(im, NN), (alone, RB), (i, JJ), (feel, VBP), ...   \n",
       "2  [(ive, NN), (probably, RB), (mentioned, VBD), ...   \n",
       "3  [(i, NN), (was, VBD), (feeling, VBG), (a, DT),...   \n",
       "4  [(i, JJ), (beleive, VBP), (that, IN), (i, NN),...   \n",
       "\n",
       "                                                 pos  polarity  subjectivity  \n",
       "0  [NN, VBP, JJ, IN, PRP, RB, IN, PRP, VBD, PRP$,... -1.000000      1.000000  \n",
       "1                              [NN, RB, JJ, VBP, JJ] -1.000000      1.000000  \n",
       "2  [NN, RB, VBD, DT, IN, CC, VBP, RB, VBP, VB, NN...  0.284091      0.438636  \n",
       "3            [NN, VBD, VBG, DT, JJ, JJ, JJ, NNS, RB] -0.096875      0.225000  \n",
       "4  [JJ, VBP, IN, NN, VBP, RB, RBR, JJ, TO, JJ, NN...  0.243750      0.568750  "
      ]
     },
     "execution_count": 10,
     "metadata": {},
     "output_type": "execute_result"
    }
   ],
   "source": [
    "docs_df.head()"
   ]
  },
  {
   "attachments": {},
   "cell_type": "markdown",
   "metadata": {},
   "source": [
    "- paper involving using ratios of specific pos in model https://ieeexplore.ieee.org/abstract/document/8625499\n",
    "- official pos tags used in nltk https://www.ling.upenn.edu/courses/Fall_2003/ling001/penn_treebank_pos.html\n",
    "- pos tag descriptions https://stackoverflow.com/questions/15388831/what-are-all-possible-pos-tags-of-nltk\n",
    "- negative contractions https://www.thoughtco.com/what-is-a-negative-contraction-1691339"
   ]
  },
  {
   "attachments": {},
   "cell_type": "markdown",
   "metadata": {},
   "source": [
    "- replace MD's\n",
    "- noun: contains NN\n",
    "- pronoun: countians PR\n",
    "- verb: contains VB\n",
    "- adverb: contains RB\n",
    "- modal auxiliary: MD\n",
    "- adjective: contains JJ\n",
    "- causal conjunction: IN"
   ]
  },
  {
   "cell_type": "code",
   "execution_count": 11,
   "metadata": {},
   "outputs": [],
   "source": [
    "# docno\n",
    "pos_pref = ['NN', 'PR', 'VB', 'RB', 'MD', 'JJ', 'IN']\n",
    "pos_list = list(docs_df.pos.explode().unique())\n",
    "# pos_list\n",
    "\n",
    "for pref in pos_pref:\n",
    "    tags = {a for a in pos_list if pref in a}\n",
    "    docs_df[pref] = [sum(1 for tag in row if tag in tags) for row in docs_df.pos]\n",
    "    \n",
    "docs_df['pos_sum'] = docs_df[pos_pref].sum(axis=1)\n",
    "docs_df[pos_pref] = docs_df[pos_pref].div(docs_df['pos_sum'], axis=0)\n",
    "\n",
    "\n",
    "# calculate ratio of emotion terms among stem\n",
    "docs_df['er'] = [sum(1 for tag in row if tag in emotion_terms_all) for row in docs_df.stem] / docs_df['pos_sum']\n",
    "\n",
    "# calculate ratio of negatives\n",
    "negations = {'no','not','arent', 'isnt', 'wasnt', 'werent', 'cant', 'couldnt', 'mustnt', 'shouldnt', 'wont', 'wouldnt', 'didnt', 'doesnt', 'dont', 'hasnt', 'havent', 'hadnt'}\n",
    "docs_df['neg'] = [sum(1 for tag in row if tag in negations) for row in docs_df.tok] / docs_df['pos_sum']"
   ]
  },
  {
   "cell_type": "code",
   "execution_count": 12,
   "metadata": {},
   "outputs": [
    {
     "data": {
      "text/plain": [
       "Index(['text', 'label', 'emotion', 'docno', 'tok', 'stem', 'pos_tup', 'pos',\n",
       "       'polarity', 'subjectivity', 'NN', 'PR', 'VB', 'RB', 'MD', 'JJ', 'IN',\n",
       "       'pos_sum', 'er', 'neg'],\n",
       "      dtype='object')"
      ]
     },
     "execution_count": 12,
     "metadata": {},
     "output_type": "execute_result"
    }
   ],
   "source": [
    "docs_df.columns"
   ]
  },
  {
   "cell_type": "code",
   "execution_count": 13,
   "metadata": {},
   "outputs": [],
   "source": [
    "if not os.path.exists('emotion/datasets/Emotion Dataset for Emotion Recognition Tasks/docs_df.pkl'):\n",
    "    docs_df.to_pickle('emotion/datasets/Emotion Dataset for Emotion Recognition Tasks/docs_df.pkl')"
   ]
  },
  {
   "cell_type": "code",
   "execution_count": 14,
   "metadata": {},
   "outputs": [
    {
     "name": "stdout",
     "output_type": "stream",
     "text": [
      "['polarity', 'subjectivity', 'er', 'neg', 'NN', 'PR', 'VB', 'RB', 'MD', 'JJ', 'IN']\n"
     ]
    }
   ],
   "source": [
    "numeric_columns = [\"polarity\", \"subjectivity\", \"er\", \"neg\"] + pos_pref\n",
    "print(numeric_columns)\n",
    "\n",
    "index_dir = os.path.join(os.getcwd(),'indices','carer7') #####\n",
    "\n",
    "# https://pyterrier.readthedocs.io/en/latest/terrier-indexing.html#dfindexer\n",
    "if not os.path.exists(os.path.join(index_dir, \"data.properties\")):\n",
    "    indexer = pt.DFIndexer(index_dir, overwrite=True)\n",
    "    indexer.setProperty(\"termpipelines\", \"\")\n",
    "    index_ref = indexer.index(docs_df[\"text\"].astype('string'), docs_df[[\"docno\", 'emotion'] + numeric_columns].astype('string')) # 7\n",
    "    \n",
    "else:\n",
    "    index_ref = pt.IndexRef.of(os.path.join(index_dir, \"data.properties\"))\n",
    "index = pt.IndexFactory.of(index_ref)"
   ]
  },
  {
   "cell_type": "code",
   "execution_count": 15,
   "metadata": {},
   "outputs": [
    {
     "name": "stdout",
     "output_type": "stream",
     "text": [
      "Number of documents: 416809\n",
      "Number of terms: 74675\n",
      "Number of postings: 7081934\n",
      "Number of fields: 0\n",
      "Number of tokens: 8006231\n",
      "Field names: []\n",
      "Positions:   false\n",
      "\n"
     ]
    }
   ],
   "source": [
    "print(index.getCollectionStatistics().toString())"
   ]
  },
  {
   "cell_type": "code",
   "execution_count": 16,
   "metadata": {},
   "outputs": [
    {
     "data": {
      "text/html": [
       "<div>\n",
       "<style scoped>\n",
       "    .dataframe tbody tr th:only-of-type {\n",
       "        vertical-align: middle;\n",
       "    }\n",
       "\n",
       "    .dataframe tbody tr th {\n",
       "        vertical-align: top;\n",
       "    }\n",
       "\n",
       "    .dataframe thead th {\n",
       "        text-align: right;\n",
       "    }\n",
       "</style>\n",
       "<table border=\"1\" class=\"dataframe\">\n",
       "  <thead>\n",
       "    <tr style=\"text-align: right;\">\n",
       "      <th></th>\n",
       "      <th>text</th>\n",
       "      <th>label</th>\n",
       "      <th>emotion</th>\n",
       "      <th>docno</th>\n",
       "      <th>tok</th>\n",
       "      <th>stem</th>\n",
       "      <th>pos_tup</th>\n",
       "      <th>pos</th>\n",
       "      <th>polarity</th>\n",
       "      <th>subjectivity</th>\n",
       "      <th>NN</th>\n",
       "      <th>PR</th>\n",
       "      <th>VB</th>\n",
       "      <th>RB</th>\n",
       "      <th>MD</th>\n",
       "      <th>JJ</th>\n",
       "      <th>IN</th>\n",
       "      <th>pos_sum</th>\n",
       "      <th>er</th>\n",
       "      <th>neg</th>\n",
       "    </tr>\n",
       "  </thead>\n",
       "  <tbody>\n",
       "    <tr>\n",
       "      <th>0</th>\n",
       "      <td>i feel awful about it too because it s my job ...</td>\n",
       "      <td>0</td>\n",
       "      <td>sadness</td>\n",
       "      <td>0</td>\n",
       "      <td>[i, feel, awful, about, it, too, because, it, ...</td>\n",
       "      <td>[i, feel, aw, about, it, too, becaus, it, s, m...</td>\n",
       "      <td>[(i, NN), (feel, VBP), (awful, JJ), (about, IN...</td>\n",
       "      <td>[NN, VBP, JJ, IN, PRP, RB, IN, PRP, VBD, PRP$,...</td>\n",
       "      <td>-1.000000</td>\n",
       "      <td>1.000000</td>\n",
       "      <td>0.181818</td>\n",
       "      <td>0.227273</td>\n",
       "      <td>0.227273</td>\n",
       "      <td>0.136364</td>\n",
       "      <td>0.0</td>\n",
       "      <td>0.090909</td>\n",
       "      <td>0.136364</td>\n",
       "      <td>22</td>\n",
       "      <td>0.0</td>\n",
       "      <td>0.0</td>\n",
       "    </tr>\n",
       "    <tr>\n",
       "      <th>1</th>\n",
       "      <td>im alone i feel awful</td>\n",
       "      <td>0</td>\n",
       "      <td>sadness</td>\n",
       "      <td>1</td>\n",
       "      <td>[im, alone, i, feel, awful]</td>\n",
       "      <td>[im, alon, i, feel, aw]</td>\n",
       "      <td>[(im, NN), (alone, RB), (i, JJ), (feel, VBP), ...</td>\n",
       "      <td>[NN, RB, JJ, VBP, JJ]</td>\n",
       "      <td>-1.000000</td>\n",
       "      <td>1.000000</td>\n",
       "      <td>0.200000</td>\n",
       "      <td>0.000000</td>\n",
       "      <td>0.200000</td>\n",
       "      <td>0.200000</td>\n",
       "      <td>0.0</td>\n",
       "      <td>0.400000</td>\n",
       "      <td>0.000000</td>\n",
       "      <td>5</td>\n",
       "      <td>0.0</td>\n",
       "      <td>0.0</td>\n",
       "    </tr>\n",
       "    <tr>\n",
       "      <th>2</th>\n",
       "      <td>ive probably mentioned this before but i reall...</td>\n",
       "      <td>1</td>\n",
       "      <td>joy</td>\n",
       "      <td>2</td>\n",
       "      <td>[ive, probably, mentioned, this, before, but, ...</td>\n",
       "      <td>[ive, probabl, mention, thi, befor, but, i, re...</td>\n",
       "      <td>[(ive, NN), (probably, RB), (mentioned, VBD), ...</td>\n",
       "      <td>[NN, RB, VBD, DT, IN, CC, VBP, RB, VBP, VB, NN...</td>\n",
       "      <td>0.284091</td>\n",
       "      <td>0.438636</td>\n",
       "      <td>0.260870</td>\n",
       "      <td>0.043478</td>\n",
       "      <td>0.217391</td>\n",
       "      <td>0.130435</td>\n",
       "      <td>0.0</td>\n",
       "      <td>0.130435</td>\n",
       "      <td>0.217391</td>\n",
       "      <td>23</td>\n",
       "      <td>0.0</td>\n",
       "      <td>0.0</td>\n",
       "    </tr>\n",
       "    <tr>\n",
       "      <th>3</th>\n",
       "      <td>i was feeling a little low few days back</td>\n",
       "      <td>0</td>\n",
       "      <td>sadness</td>\n",
       "      <td>3</td>\n",
       "      <td>[i, was, feeling, a, little, low, few, days, b...</td>\n",
       "      <td>[i, wa, feel, a, littl, low, few, day, back]</td>\n",
       "      <td>[(i, NN), (was, VBD), (feeling, VBG), (a, DT),...</td>\n",
       "      <td>[NN, VBD, VBG, DT, JJ, JJ, JJ, NNS, RB]</td>\n",
       "      <td>-0.096875</td>\n",
       "      <td>0.225000</td>\n",
       "      <td>0.250000</td>\n",
       "      <td>0.000000</td>\n",
       "      <td>0.250000</td>\n",
       "      <td>0.125000</td>\n",
       "      <td>0.0</td>\n",
       "      <td>0.375000</td>\n",
       "      <td>0.000000</td>\n",
       "      <td>8</td>\n",
       "      <td>0.0</td>\n",
       "      <td>0.0</td>\n",
       "    </tr>\n",
       "    <tr>\n",
       "      <th>4</th>\n",
       "      <td>i beleive that i am much more sensitive to oth...</td>\n",
       "      <td>2</td>\n",
       "      <td>love</td>\n",
       "      <td>4</td>\n",
       "      <td>[i, beleive, that, i, am, much, more, sensitiv...</td>\n",
       "      <td>[i, beleiv, that, i, am, much, more, sensit, t...</td>\n",
       "      <td>[(i, JJ), (beleive, VBP), (that, IN), (i, NN),...</td>\n",
       "      <td>[JJ, VBP, IN, NN, VBP, RB, RBR, JJ, TO, JJ, NN...</td>\n",
       "      <td>0.243750</td>\n",
       "      <td>0.568750</td>\n",
       "      <td>0.266667</td>\n",
       "      <td>0.000000</td>\n",
       "      <td>0.266667</td>\n",
       "      <td>0.133333</td>\n",
       "      <td>0.0</td>\n",
       "      <td>0.266667</td>\n",
       "      <td>0.066667</td>\n",
       "      <td>15</td>\n",
       "      <td>0.0</td>\n",
       "      <td>0.0</td>\n",
       "    </tr>\n",
       "  </tbody>\n",
       "</table>\n",
       "</div>"
      ],
      "text/plain": [
       "                                                text  label  emotion docno  \\\n",
       "0  i feel awful about it too because it s my job ...      0  sadness     0   \n",
       "1                              im alone i feel awful      0  sadness     1   \n",
       "2  ive probably mentioned this before but i reall...      1      joy     2   \n",
       "3           i was feeling a little low few days back      0  sadness     3   \n",
       "4  i beleive that i am much more sensitive to oth...      2     love     4   \n",
       "\n",
       "                                                 tok  \\\n",
       "0  [i, feel, awful, about, it, too, because, it, ...   \n",
       "1                        [im, alone, i, feel, awful]   \n",
       "2  [ive, probably, mentioned, this, before, but, ...   \n",
       "3  [i, was, feeling, a, little, low, few, days, b...   \n",
       "4  [i, beleive, that, i, am, much, more, sensitiv...   \n",
       "\n",
       "                                                stem  \\\n",
       "0  [i, feel, aw, about, it, too, becaus, it, s, m...   \n",
       "1                            [im, alon, i, feel, aw]   \n",
       "2  [ive, probabl, mention, thi, befor, but, i, re...   \n",
       "3       [i, wa, feel, a, littl, low, few, day, back]   \n",
       "4  [i, beleiv, that, i, am, much, more, sensit, t...   \n",
       "\n",
       "                                             pos_tup  \\\n",
       "0  [(i, NN), (feel, VBP), (awful, JJ), (about, IN...   \n",
       "1  [(im, NN), (alone, RB), (i, JJ), (feel, VBP), ...   \n",
       "2  [(ive, NN), (probably, RB), (mentioned, VBD), ...   \n",
       "3  [(i, NN), (was, VBD), (feeling, VBG), (a, DT),...   \n",
       "4  [(i, JJ), (beleive, VBP), (that, IN), (i, NN),...   \n",
       "\n",
       "                                                 pos  polarity  subjectivity  \\\n",
       "0  [NN, VBP, JJ, IN, PRP, RB, IN, PRP, VBD, PRP$,... -1.000000      1.000000   \n",
       "1                              [NN, RB, JJ, VBP, JJ] -1.000000      1.000000   \n",
       "2  [NN, RB, VBD, DT, IN, CC, VBP, RB, VBP, VB, NN...  0.284091      0.438636   \n",
       "3            [NN, VBD, VBG, DT, JJ, JJ, JJ, NNS, RB] -0.096875      0.225000   \n",
       "4  [JJ, VBP, IN, NN, VBP, RB, RBR, JJ, TO, JJ, NN...  0.243750      0.568750   \n",
       "\n",
       "         NN        PR        VB        RB   MD        JJ        IN  pos_sum  \\\n",
       "0  0.181818  0.227273  0.227273  0.136364  0.0  0.090909  0.136364       22   \n",
       "1  0.200000  0.000000  0.200000  0.200000  0.0  0.400000  0.000000        5   \n",
       "2  0.260870  0.043478  0.217391  0.130435  0.0  0.130435  0.217391       23   \n",
       "3  0.250000  0.000000  0.250000  0.125000  0.0  0.375000  0.000000        8   \n",
       "4  0.266667  0.000000  0.266667  0.133333  0.0  0.266667  0.066667       15   \n",
       "\n",
       "    er  neg  \n",
       "0  0.0  0.0  \n",
       "1  0.0  0.0  \n",
       "2  0.0  0.0  \n",
       "3  0.0  0.0  \n",
       "4  0.0  0.0  "
      ]
     },
     "execution_count": 16,
     "metadata": {},
     "output_type": "execute_result"
    }
   ],
   "source": [
    "docs_df.head()"
   ]
  },
  {
   "cell_type": "code",
   "execution_count": 17,
   "metadata": {
    "id": "m4ATKtaJ9cl7"
   },
   "outputs": [
    {
     "data": {
      "text/html": [
       "<div>\n",
       "<style scoped>\n",
       "    .dataframe tbody tr th:only-of-type {\n",
       "        vertical-align: middle;\n",
       "    }\n",
       "\n",
       "    .dataframe tbody tr th {\n",
       "        vertical-align: top;\n",
       "    }\n",
       "\n",
       "    .dataframe thead th {\n",
       "        text-align: right;\n",
       "    }\n",
       "</style>\n",
       "<table border=\"1\" class=\"dataframe\">\n",
       "  <thead>\n",
       "    <tr style=\"text-align: right;\">\n",
       "      <th></th>\n",
       "      <th>query</th>\n",
       "      <th>qid</th>\n",
       "    </tr>\n",
       "  </thead>\n",
       "  <tbody>\n",
       "    <tr>\n",
       "      <th>0</th>\n",
       "      <td>sadness</td>\n",
       "      <td>0</td>\n",
       "    </tr>\n",
       "    <tr>\n",
       "      <th>1</th>\n",
       "      <td>joy</td>\n",
       "      <td>1</td>\n",
       "    </tr>\n",
       "    <tr>\n",
       "      <th>2</th>\n",
       "      <td>love</td>\n",
       "      <td>2</td>\n",
       "    </tr>\n",
       "    <tr>\n",
       "      <th>3</th>\n",
       "      <td>anger</td>\n",
       "      <td>3</td>\n",
       "    </tr>\n",
       "    <tr>\n",
       "      <th>4</th>\n",
       "      <td>fear</td>\n",
       "      <td>4</td>\n",
       "    </tr>\n",
       "    <tr>\n",
       "      <th>5</th>\n",
       "      <td>surprise</td>\n",
       "      <td>5</td>\n",
       "    </tr>\n",
       "  </tbody>\n",
       "</table>\n",
       "</div>"
      ],
      "text/plain": [
       "      query qid\n",
       "0   sadness   0\n",
       "1       joy   1\n",
       "2      love   2\n",
       "3     anger   3\n",
       "4      fear   4\n",
       "5  surprise   5"
      ]
     },
     "execution_count": 17,
     "metadata": {},
     "output_type": "execute_result"
    }
   ],
   "source": [
    "topics = docs_df[['emotion']].drop_duplicates(ignore_index=True).rename(columns={'emotion':'query'})\n",
    "topics['qid'] = [str(a) for a in range(topics.shape[0])]\n",
    "topics"
   ]
  },
  {
   "cell_type": "code",
   "execution_count": 18,
   "metadata": {
    "id": "s-FIvfDe-ZoB"
   },
   "outputs": [
    {
     "data": {
      "text/html": [
       "<div>\n",
       "<style scoped>\n",
       "    .dataframe tbody tr th:only-of-type {\n",
       "        vertical-align: middle;\n",
       "    }\n",
       "\n",
       "    .dataframe tbody tr th {\n",
       "        vertical-align: top;\n",
       "    }\n",
       "\n",
       "    .dataframe thead th {\n",
       "        text-align: right;\n",
       "    }\n",
       "</style>\n",
       "<table border=\"1\" class=\"dataframe\">\n",
       "  <thead>\n",
       "    <tr style=\"text-align: right;\">\n",
       "      <th></th>\n",
       "      <th>qid</th>\n",
       "      <th>docno</th>\n",
       "      <th>label</th>\n",
       "    </tr>\n",
       "  </thead>\n",
       "  <tbody>\n",
       "    <tr>\n",
       "      <th>0</th>\n",
       "      <td>0</td>\n",
       "      <td>0</td>\n",
       "      <td>0</td>\n",
       "    </tr>\n",
       "    <tr>\n",
       "      <th>1</th>\n",
       "      <td>0</td>\n",
       "      <td>1</td>\n",
       "      <td>0</td>\n",
       "    </tr>\n",
       "    <tr>\n",
       "      <th>2</th>\n",
       "      <td>0</td>\n",
       "      <td>3</td>\n",
       "      <td>0</td>\n",
       "    </tr>\n",
       "    <tr>\n",
       "      <th>3</th>\n",
       "      <td>0</td>\n",
       "      <td>11</td>\n",
       "      <td>0</td>\n",
       "    </tr>\n",
       "    <tr>\n",
       "      <th>4</th>\n",
       "      <td>0</td>\n",
       "      <td>16</td>\n",
       "      <td>0</td>\n",
       "    </tr>\n",
       "    <tr>\n",
       "      <th>...</th>\n",
       "      <td>...</td>\n",
       "      <td>...</td>\n",
       "      <td>...</td>\n",
       "    </tr>\n",
       "    <tr>\n",
       "      <th>416804</th>\n",
       "      <td>5</td>\n",
       "      <td>416708</td>\n",
       "      <td>5</td>\n",
       "    </tr>\n",
       "    <tr>\n",
       "      <th>416805</th>\n",
       "      <td>5</td>\n",
       "      <td>416712</td>\n",
       "      <td>5</td>\n",
       "    </tr>\n",
       "    <tr>\n",
       "      <th>416806</th>\n",
       "      <td>5</td>\n",
       "      <td>416738</td>\n",
       "      <td>5</td>\n",
       "    </tr>\n",
       "    <tr>\n",
       "      <th>416807</th>\n",
       "      <td>5</td>\n",
       "      <td>416755</td>\n",
       "      <td>5</td>\n",
       "    </tr>\n",
       "    <tr>\n",
       "      <th>416808</th>\n",
       "      <td>5</td>\n",
       "      <td>416802</td>\n",
       "      <td>5</td>\n",
       "    </tr>\n",
       "  </tbody>\n",
       "</table>\n",
       "<p>416809 rows × 3 columns</p>\n",
       "</div>"
      ],
      "text/plain": [
       "       qid   docno  label\n",
       "0        0       0      0\n",
       "1        0       1      0\n",
       "2        0       3      0\n",
       "3        0      11      0\n",
       "4        0      16      0\n",
       "...     ..     ...    ...\n",
       "416804   5  416708      5\n",
       "416805   5  416712      5\n",
       "416806   5  416738      5\n",
       "416807   5  416755      5\n",
       "416808   5  416802      5\n",
       "\n",
       "[416809 rows x 3 columns]"
      ]
     },
     "execution_count": 18,
     "metadata": {},
     "output_type": "execute_result"
    }
   ],
   "source": [
    "qrels = docs_df.merge(topics, left_on='emotion', right_on='query', how='inner')[['qid','docno','label']]\n",
    "qrels.columns = ['qid','docno','label']\n",
    "qrels"
   ]
  },
  {
   "attachments": {},
   "cell_type": "markdown",
   "metadata": {},
   "source": [
    "### custom experiment function for different emotions and ndcg cutoffs\n",
    "\n",
    "\"Relevant\" docs are scored a 3 if they match the emotion, and 0 otherwise"
   ]
  },
  {
   "cell_type": "code",
   "execution_count": 19,
   "metadata": {},
   "outputs": [],
   "source": [
    "def dcg_list(scores):\n",
    "    # assuming increasing index\n",
    "    res = []\n",
    "    for i in range(len(scores)):\n",
    "        res.append(scores[i]/np.log2(i+2))\n",
    "    return sum(np.nan_to_num(res))\n",
    "\n",
    "def ndcg_of_emotion(searchresults, emotion, cutoff=None):\n",
    "    if searchresults.empty:\n",
    "        return 0\n",
    "    \n",
    "    if cutoff is None:\n",
    "        df = pd.DataFrame(searchresults)\n",
    "    else:\n",
    "        df = pd.DataFrame(searchresults.head(cutoff))\n",
    "    scores = []\n",
    "    for i in df.itertuples():\n",
    "        if i.emotion != emotion:\n",
    "            scores.append(0)\n",
    "        else:\n",
    "            scores.append(3)\n",
    "    dcg = dcg_list(scores)\n",
    "    idcg = dcg_list(sorted(scores, reverse=True))\n",
    "    ret = dcg/idcg\n",
    "    return ret\n",
    "\n",
    "\n",
    "def ndcg_per_emotion_experiment(models, names, emotions, qrels, docs_df, cutoffs=[None]):\n",
    "    test_docs = qrels.merge(docs_df[['docno','emotion','text']], on='docno')\n",
    "    res = pd.DataFrame()\n",
    "    \n",
    "    for i in range(len(models)):\n",
    "        model_res = pd.DataFrame()\n",
    "        model_res['name'] = [names[i]]\n",
    "        for emotion in emotions:\n",
    "            scores = dict()\n",
    "            for doc in test_docs.loc[test_docs.emotion == emotion,:].itertuples():\n",
    "                searchresults = models[i].search(doc.text)\n",
    "                for cutoff in cutoffs:\n",
    "                    if cutoff not in scores:\n",
    "                        scores[cutoff] = []\n",
    "                        \n",
    "                    scores[cutoff].append(ndcg_of_emotion(searchresults, emotion, cutoff))\n",
    "                    \n",
    "            for cutoff in cutoffs:\n",
    "                if cutoff is None:\n",
    "                    model_res[emotion+'_ndcg'] = [np.mean(np.nan_to_num(scores[cutoff]))]\n",
    "                else:\n",
    "                    model_res[emotion+'_ndcg_cut_'+str(cutoff)] = [np.mean(np.nan_to_num(scores[cutoff]))]\n",
    "        \n",
    "        model_res = model_res.set_index('name').reset_index()\n",
    "        res = pd.concat([res,model_res], axis=0)\n",
    "    res2 = res[['name']] # group emotions by cutoff\n",
    "    for cutoff in cutoffs:\n",
    "        if cutoff is not None:\n",
    "            cutoff_ = 'ndcg_cut_'+str(cutoff)\n",
    "        else:\n",
    "            cutoff_ = 'ndcg'\n",
    "        res2 = pd.concat([res2, res[[a for a in res.columns if a.endswith(cutoff_)]]], axis=1)\n",
    "    return res2\n"
   ]
  },
  {
   "cell_type": "code",
   "execution_count": 20,
   "metadata": {},
   "outputs": [
    {
     "name": "stdout",
     "output_type": "stream",
     "text": [
      "(332967, 3)\n",
      "(83242, 3)\n",
      "(600, 3)\n"
     ]
    }
   ],
   "source": [
    "num_queries_per_emotion = 100\n",
    "\n",
    "\n",
    "test_qrels = pd.DataFrame()\n",
    "for label in pd.unique(qrels.label):\n",
    "    test_qrels = pd.concat([test_qrels, qrels.loc[qrels.label == label,:].sample(num_queries_per_emotion, random_state=0)], axis=0)\n",
    "# test_qrels\n",
    "\n",
    "tr_va_qrels = qrels.drop(test_qrels.index)\n",
    "# tr_va_qrels\n",
    "\n",
    "# tr_va_qrels, test_qrels = train_test_split(qrels, test_size=1/10, random_state=SEED)\n",
    "train_qrels, valid_qrels =  train_test_split(tr_va_qrels, test_size=2/10, random_state=SEED)\n",
    "\n",
    "print(train_qrels.shape)\n",
    "print(valid_qrels.shape)\n",
    "print(test_qrels.shape)"
   ]
  },
  {
   "cell_type": "code",
   "execution_count": 21,
   "metadata": {
    "id": "kpVQoPjf_Ie8"
   },
   "outputs": [],
   "source": [
    "metadata = ['docno', 'emotion', 'polarity', 'subjectivity', 'er', 'neg', 'NN', 'PR', 'VB', 'RB', 'MD', 'JJ', 'IN']\n",
    "\n",
    "\n",
    "termpipelines = \"PorterStemmer\"\n",
    "\n",
    "\n",
    "tf = pt.BatchRetrieve(index, metadata=metadata, wmodel=\"Tf\", properties={\"termpipelines\" : termpipelines})\n",
    "tfidf = pt.BatchRetrieve(index, metadata=metadata, wmodel=\"TF_IDF\", properties={\"termpipelines\" : termpipelines})\n",
    "bm25 = pt.BatchRetrieve(index, metadata=metadata, wmodel=\"BM25\", properties={\"termpipelines\" : termpipelines})\n"
   ]
  },
  {
   "cell_type": "code",
   "execution_count": 22,
   "metadata": {
    "id": "BCjbuTRHFUzy"
   },
   "outputs": [
    {
     "data": {
      "text/plain": [
       "ComposedPipeline(BR(c:\\Users\\alexw\\OneDrive\\College Files 2022-2024\\Fall 2022\\650 Information Retrieval\\project\\indices\\carer7/data.properties,{'terrierql': 'on', 'parsecontrols': 'on', 'parseql': 'on', 'applypipeline': 'on', 'localmatching': 'on', 'filters': 'on', 'decorate': 'on', 'wmodel': 'BM25'},{'querying.processes': 'terrierql:TerrierQLParser,parsecontrols:TerrierQLToControls,parseql:TerrierQLToMatchingQueryTerms,matchopql:MatchingOpQLParser,applypipeline:ApplyTermPipeline,context_wmodel:org.terrier.python.WmodelFromContextProcess,localmatching:LocalManager$ApplyLocalMatching,qe:QueryExpansion,labels:org.terrier.learning.LabelDecorator,filters:LocalManager$PostFilterProcess,decorate:SimpleDecorateProcess', 'querying.postfilters': 'decorate:SimpleDecorate,site:SiteFilter,scope:Scope', 'querying.default.controls': 'wmodel:DPH,parsecontrols:on,parseql:on,applypipeline:on,terrierql:on,localmatching:on,filters:on,decorate:on', 'querying.allowed.controls': 'scope,qe,qemodel,start,end,site,scope,applypipeline', 'termpipelines': 'PorterStemmer'}), FeatureUnionPipeline(IdentityTransformer(), FeatureUnionPipeline(FBR(c:\\Users\\alexw\\OneDrive\\College Files 2022-2024\\Fall 2022\\650 Information Retrieval\\project\\indices\\carer7/data.properties,['WMODEL:DirichletLM'],{'terrierql': 'on', 'parsecontrols': 'on', 'parseql': 'on', 'applypipeline': 'on', 'localmatching': 'on', 'filters': 'on', 'decorate': 'on', 'wmodel': 'TF_IDF', 'matching': 'FatFeaturedScoringMatching,org.terrier.matching.daat.FatFull'},{'querying.processes': 'terrierql:TerrierQLParser,parsecontrols:TerrierQLToControls,parseql:TerrierQLToMatchingQueryTerms,matchopql:MatchingOpQLParser,applypipeline:ApplyTermPipeline,context_wmodel:org.terrier.python.WmodelFromContextProcess,localmatching:LocalManager$ApplyLocalMatching,qe:QueryExpansion,labels:org.terrier.learning.LabelDecorator,filters:LocalManager$PostFilterProcess,decorate:SimpleDecorateProcess', 'querying.postfilters': 'decorate:SimpleDecorate,site:SiteFilter,scope:Scope', 'querying.default.controls': 'wmodel:DPH,parsecontrols:on,parseql:on,applypipeline:on,terrierql:on,localmatching:on,filters:on,decorate:on', 'querying.allowed.controls': 'scope,qe,qemodel,start,end,site,scope,applypipeline', 'termpipelines': '', 'fat.featured.scoring.matching.features': 'WMODEL:DirichletLM'}), pt.apply.??())))"
      ]
     },
     "execution_count": 22,
     "metadata": {},
     "output_type": "execute_result"
    }
   ],
   "source": [
    "ltr_feats1 = bm25 >> (\n",
    "    pt.transformer.IdentityTransformer()\n",
    "    ** \n",
    "    pt.FeaturesBatchRetrieve(index, wmodel=\"TF_IDF\", features=[\"WMODEL:DirichletLM\"], properties={\"termpipelines\" : \"\"})\n",
    "\n",
    "    **\n",
    "    pt.apply.doc_features(lambda row: np.array([float(row[a]) for a in numeric_columns]))\n",
    "    \n",
    ") \n",
    "fnames=[\"BM25\", \"TF_IDF-DirichletLM\"]  + numeric_columns\n",
    "# fnames=[\"BM25\", \"TF_IDF-DirichletLM\", 'BM25_nouns_removed'] + numeric_columns\n",
    "ltr_feats1 "
   ]
  },
  {
   "cell_type": "code",
   "execution_count": 23,
   "metadata": {},
   "outputs": [],
   "source": [
    "# ltr_feats1.search('i feel terrible today').head(20)"
   ]
  },
  {
   "attachments": {},
   "cell_type": "markdown",
   "metadata": {},
   "source": [
    "## Build models to test"
   ]
  },
  {
   "cell_type": "code",
   "execution_count": 24,
   "metadata": {},
   "outputs": [
    {
     "name": "stdout",
     "output_type": "stream",
     "text": [
      "CPU times: total: 14.1 s\n",
      "Wall time: 3.69 s\n"
     ]
    }
   ],
   "source": [
    "from sklearn.ensemble import RandomForestRegressor, RandomForestClassifier\n",
    "\n",
    "rf = RandomForestRegressor(n_estimators=400, verbose=0, random_state=SEED, n_jobs=5)\n",
    "\n",
    "rf_pipe = ltr_feats1 >> pt.ltr.apply_learned_model(rf)\n",
    "\n",
    "%time rf_pipe.fit(topics, train_qrels)"
   ]
  },
  {
   "cell_type": "code",
   "execution_count": 25,
   "metadata": {
    "colab": {
     "base_uri": "https://localhost:8080/"
    },
    "id": "m79Yflq0Fu99",
    "outputId": "7b6ea521-0555-44ee-f840-cf5e347422d2"
   },
   "outputs": [
    {
     "name": "stdout",
     "output_type": "stream",
     "text": [
      "CPU times: total: 5.36 s\n",
      "Wall time: 2.12 s\n"
     ]
    }
   ],
   "source": [
    "from sklearn.ensemble import RandomForestRegressor, RandomForestClassifier\n",
    "\n",
    "rfc = RandomForestClassifier(n_estimators=400, verbose=0, random_state=SEED, n_jobs=5)\n",
    "\n",
    "rfc_pipe = ltr_feats1 >> pt.ltr.apply_learned_model(rfc)\n",
    "\n",
    "%time rfc_pipe.fit(topics, train_qrels)"
   ]
  },
  {
   "cell_type": "code",
   "execution_count": 26,
   "metadata": {
    "colab": {
     "base_uri": "https://localhost:8080/"
    },
    "id": "2NphW4hlFzVA",
    "outputId": "0f6953fa-42ed-4c5d-cfa6-387d1fa74deb"
   },
   "outputs": [
    {
     "name": "stdout",
     "output_type": "stream",
     "text": [
      "CPU times: total: 6.72 s\n",
      "Wall time: 2.33 s\n"
     ]
    }
   ],
   "source": [
    "import fastrank\n",
    "train_request = fastrank.TrainRequest.coordinate_ascent()\n",
    "\n",
    "params = train_request.params\n",
    "params.init_random = True\n",
    "params.normalize = True\n",
    "params.seed = 1234567\n",
    "\n",
    "ca_pipe = ltr_feats1 >> pt.ltr.apply_learned_model(train_request, form='fastrank')\n",
    "\n",
    "%time ca_pipe.fit(topics, train_qrels)"
   ]
  },
  {
   "cell_type": "code",
   "execution_count": 27,
   "metadata": {
    "colab": {
     "base_uri": "https://localhost:8080/"
    },
    "id": "H9nYe5q4GPk3",
    "outputId": "62b53783-b25f-4e59-9617-2eed5624f04f",
    "scrolled": true
   },
   "outputs": [
    {
     "name": "stdout",
     "output_type": "stream",
     "text": [
      "[LightGBM] [Warning] min_data_in_leaf is set=1, min_child_samples=20 will be ignored. Current value: min_data_in_leaf=1\n",
      "[LightGBM] [Warning] min_sum_hessian_in_leaf is set=1, min_child_weight=0.001 will be ignored. Current value: min_sum_hessian_in_leaf=1\n",
      "[LightGBM] [Warning] early_stopping_round is set=5, early_stopping_rounds=5 will be ignored. Current value: early_stopping_round=5\n",
      "[LightGBM] [Warning] min_data_in_leaf is set=1, min_child_samples=20 will be ignored. Current value: min_data_in_leaf=1\n",
      "[LightGBM] [Warning] min_sum_hessian_in_leaf is set=1, min_child_weight=0.001 will be ignored. Current value: min_sum_hessian_in_leaf=1\n",
      "[LightGBM] [Warning] Auto-choosing row-wise multi-threading, the overhead of testing was 0.000275 seconds.\n",
      "You can set `force_row_wise=true` to remove the overhead.\n",
      "And if memory is not enough, you can set `force_col_wise=true`.\n",
      "[LightGBM] [Warning] min_data_in_leaf is set=1, min_child_samples=20 will be ignored. Current value: min_data_in_leaf=1\n",
      "[LightGBM] [Warning] min_sum_hessian_in_leaf is set=1, min_child_weight=0.001 will be ignored. Current value: min_sum_hessian_in_leaf=1\n",
      "[LightGBM] [Warning] early_stopping_round is set=5, early_stopping_rounds=5 will be ignored. Current value: early_stopping_round=5\n",
      "[LightGBM] [Warning] No further splits with positive gain, best gain: -inf\n",
      "[LightGBM] [Warning] No further splits with positive gain, best gain: -inf\n",
      "[LightGBM] [Warning] No further splits with positive gain, best gain: -inf\n",
      "[LightGBM] [Warning] No further splits with positive gain, best gain: -inf\n",
      "[LightGBM] [Warning] No further splits with positive gain, best gain: -inf\n",
      "[LightGBM] [Warning] No further splits with positive gain, best gain: -inf\n",
      "[LightGBM] [Warning] No further splits with positive gain, best gain: -inf\n",
      "CPU times: total: 2 s\n",
      "Wall time: 1.83 s\n"
     ]
    }
   ],
   "source": [
    "import lightgbm as lgb\n",
    "\n",
    "# this configures LightGBM as LambdaMART\n",
    "lmart_l = lgb.LGBMRanker(\n",
    "    task=\"train\",\n",
    "    verbosity=0,\n",
    "    min_data_in_leaf=1,\n",
    "    min_sum_hessian_in_leaf=1,\n",
    "    max_bin=255,\n",
    "    num_leaves=31,\n",
    "    objective=\"lambdarank\",\n",
    "    metric=\"ndcg\",\n",
    "    ndcg_eval_at=[20],\n",
    "    ndcg_at=[20],\n",
    "    eval_at=[20],\n",
    "    learning_rate= .1,\n",
    "    importance_type=\"gain\",\n",
    "    num_iterations=100,\n",
    "    early_stopping_rounds=5,\n",
    "    \n",
    "    random_state=SEED\n",
    "    # ,\n",
    "    # n_jobs=5\n",
    ")\n",
    "\n",
    "lmart_x_pipe = ltr_feats1 >> pt.ltr.apply_learned_model(lmart_l, form=\"ltr\", fit_kwargs={'eval_at':[20]})\n",
    "\n",
    "%time lmart_x_pipe.fit(topics, train_qrels, topics, valid_qrels)"
   ]
  },
  {
   "attachments": {},
   "cell_type": "markdown",
   "metadata": {},
   "source": [
    "## inspect models - feature importances"
   ]
  },
  {
   "cell_type": "code",
   "execution_count": 28,
   "metadata": {},
   "outputs": [
    {
     "data": {
      "image/png": "[encoded data removed]",
      "text/plain": [
       "<Figure size 2500x600 with 4 Axes>"
      ]
     },
     "metadata": {},
     "output_type": "display_data"
    }
   ],
   "source": [
    "%matplotlib inline\n",
    "import matplotlib.pyplot as plt, numpy as np\n",
    "\n",
    "fig, (ax0, ax3, ax1, ax2) = plt.subplots(1, 4, figsize=(25, 6))\n",
    "\n",
    "\n",
    "ax0.bar(np.arange(len(fnames)), rf.feature_importances_)\n",
    "ax0.set_xticks(np.arange(len(fnames)))\n",
    "ax0.set_xticklabels(fnames, rotation=45, ha='right')\n",
    "ax0.set_title(\"RF regression\\n Feature Importance\")\n",
    "\n",
    "ax3.bar(np.arange(len(fnames)), rfc.feature_importances_)\n",
    "ax3.set_xticks(np.arange(len(fnames)))\n",
    "ax3.set_xticklabels(fnames, rotation=45, ha='right')\n",
    "ax3.set_title(\"RF classification\\n Feature Importance\")\n",
    "\n",
    "ax1.bar(np.arange(len(fnames)), ca_pipe[1].model.to_dict()['Linear']['weights'])\n",
    "ax1.set_xticks(np.arange(len(fnames)))\n",
    "ax1.set_xticklabels(fnames, rotation=45, ha='right')\n",
    "ax1.set_title(\"Coordinate Ascent\\n Feature Weights\")\n",
    "ax1.set_yscale('log')\n",
    "\n",
    "ax2.bar(np.arange(len(fnames)), lmart_l.feature_importances_)\n",
    "ax2.set_xticks(np.arange(len(fnames)))\n",
    "ax2.set_xticklabels(fnames, rotation=45, ha='right')\n",
    "ax2.set_title(\"$\\lambda$MART\\n Feature Importance\")\n",
    "\n",
    "fig.show()"
   ]
  },
  {
   "cell_type": "code",
   "execution_count": 29,
   "metadata": {
    "colab": {
     "base_uri": "https://localhost:8080/",
     "height": 246
    },
    "id": "AKS9nTDvGjnz",
    "outputId": "f60d7628-f53e-4c17-ca54-f2d4664a43ef"
   },
   "outputs": [],
   "source": [
    "models = [\n",
    "        bm25,\n",
    "        tfidf,\n",
    "        rf_pipe,\n",
    "        rfc_pipe,\n",
    "        ca_pipe\n",
    "        ,\n",
    "        lmart_x_pipe\n",
    "    ]\n",
    "model_names = ['BM25', 'TF-IDF', 'RF', 'RFC', 'CA', 'LGBM']"
   ]
  },
  {
   "cell_type": "code",
   "execution_count": null,
   "metadata": {},
   "outputs": [],
   "source": [
    "savetime = datetime.datetime.now().strftime('%Y-%m-%d_%H-%M-%S')\n",
    "res = ndcg_per_emotion_experiment(models, model_names, emotions, test_qrels, docs_df, cutoffs=[5,10,20,50,None])\n",
    "res.to_csv(\"project_ltr_results/experiment_\"+str(num_queries_per_emotion)+\"_per_emotion_\" + savetime + '.csv', index=False)\n",
    "res"
   ]
  }
 ],
 "metadata": {
  "colab": {
   "provenance": []
  },
  "kernelspec": {
   "display_name": "Python 3 (ipykernel)",
   "language": "python",
   "name": "python3"
  },
  "language_info": {
   "codemirror_mode": {
    "name": "ipython",
    "version": 3
   },
   "file_extension": ".py",
   "mimetype": "text/x-python",
   "name": "python",
   "nbconvert_exporter": "python",
   "pygments_lexer": "ipython3",
   "version": "3.8.13"
  },
  "vscode": {
   "interpreter": {
    "hash": "623420a0ac306b5c9acf98402868eb5ad5340febfd70ef6de8d22f0e3d4444c3"
   }
  }
 },
 "nbformat": 4,
 "nbformat_minor": 1
}
